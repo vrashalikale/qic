{
  "nbformat": 4,
  "nbformat_minor": 0,
  "metadata": {
    "colab": {
      "name": "search_A.ipynb",
      "provenance": [],
      "collapsed_sections": [],
      "authorship_tag": "ABX9TyO3fEyxrmkaCxPQSF+HNVXQ",
      "include_colab_link": true
    },
    "kernelspec": {
      "name": "python3",
      "display_name": "Python 3"
    },
    "language_info": {
      "name": "python"
    }
  },
  "cells": [
    {
      "cell_type": "markdown",
      "metadata": {
        "id": "view-in-github",
        "colab_type": "text"
      },
      "source": [
        "<a href=\"https://colab.research.google.com/github/vrashalikale/tutorials/blob/master/search_A.ipynb\" target=\"_parent\"><img src=\"https://colab.research.google.com/assets/colab-badge.svg\" alt=\"Open In Colab\"/></a>"
      ]
    },
    {
      "cell_type": "code",
      "metadata": {
        "colab": {
          "base_uri": "https://localhost:8080/"
        },
        "id": "DbDAI49Ur0j1",
        "outputId": "515b9682-75d7-4fd8-cb6c-68f90104aff9"
      },
      "source": [
        "#vrashali Kale\n",
        "#name -search algorithm\n",
        "!pip install qiskit\n",
        "#initialization\n",
        "import matplotlib.pyplot as plt\n",
        "%matplotlib inline\n",
        "import numpy as np\n",
        "# importing Qiskit\n",
        "#from qiskit import IBMQ, BasicAer\n",
        "from qiskit import IBMQ, Aer, assemble, transpile\n",
        "from qiskit.providers.ibmq import least_busy\n",
        "from qiskit import QuantumCircuit, ClassicalRegister, QuantumRegister, execute\n",
        "# import basic plot tools\n",
        "from qiskit.tools.visualization import plot_histogram"
      ],
      "execution_count": null,
      "outputs": [
        {
          "output_type": "stream",
          "text": [
            "Requirement already satisfied: qiskit in /usr/local/lib/python3.7/dist-packages (0.25.1)\n",
            "Requirement already satisfied: qiskit-aqua==0.9.1 in /usr/local/lib/python3.7/dist-packages (from qiskit) (0.9.1)\n",
            "Requirement already satisfied: qiskit-aer==0.8.1 in /usr/local/lib/python3.7/dist-packages (from qiskit) (0.8.1)\n",
            "Requirement already satisfied: qiskit-ibmq-provider==0.12.2 in /usr/local/lib/python3.7/dist-packages (from qiskit) (0.12.2)\n",
            "Requirement already satisfied: qiskit-ignis==0.6.0 in /usr/local/lib/python3.7/dist-packages (from qiskit) (0.6.0)\n",
            "Requirement already satisfied: qiskit-terra==0.17.1 in /usr/local/lib/python3.7/dist-packages (from qiskit) (0.17.1)\n",
            "Requirement already satisfied: numpy<=1.20.1,>=1.17 in /usr/local/lib/python3.7/dist-packages (from qiskit-aqua==0.9.1->qiskit) (1.19.5)\n",
            "Requirement already satisfied: retworkx<=0.8.0,>=0.7.0 in /usr/local/lib/python3.7/dist-packages (from qiskit-aqua==0.9.1->qiskit) (0.8.0)\n",
            "Requirement already satisfied: fastdtw<=0.3.4 in /usr/local/lib/python3.7/dist-packages (from qiskit-aqua==0.9.1->qiskit) (0.3.4)\n",
            "Requirement already satisfied: h5py<=3.1.0 in /usr/local/lib/python3.7/dist-packages (from qiskit-aqua==0.9.1->qiskit) (2.10.0)\n",
            "Requirement already satisfied: psutil<=5.8.0,>=5 in /usr/local/lib/python3.7/dist-packages (from qiskit-aqua==0.9.1->qiskit) (5.4.8)\n",
            "Requirement already satisfied: pandas<=1.2.3 in /usr/local/lib/python3.7/dist-packages (from qiskit-aqua==0.9.1->qiskit) (1.1.5)\n",
            "Requirement already satisfied: docplex<=2.20.204; sys_platform != \"darwin\" in /usr/local/lib/python3.7/dist-packages (from qiskit-aqua==0.9.1->qiskit) (2.20.204)\n",
            "Requirement already satisfied: dlx<=1.0.4 in /usr/local/lib/python3.7/dist-packages (from qiskit-aqua==0.9.1->qiskit) (1.0.4)\n",
            "Requirement already satisfied: sympy<=1.7.1,>=1.3 in /usr/local/lib/python3.7/dist-packages (from qiskit-aqua==0.9.1->qiskit) (1.7.1)\n",
            "Requirement already satisfied: yfinance<=0.1.55 in /usr/local/lib/python3.7/dist-packages (from qiskit-aqua==0.9.1->qiskit) (0.1.55)\n",
            "Requirement already satisfied: scikit-learn<=0.24.1,>=0.20.0 in /usr/local/lib/python3.7/dist-packages (from qiskit-aqua==0.9.1->qiskit) (0.22.2.post1)\n",
            "Requirement already satisfied: setuptools>=40.1.0 in /usr/local/lib/python3.7/dist-packages (from qiskit-aqua==0.9.1->qiskit) (54.2.0)\n",
            "Requirement already satisfied: scipy<=1.6.1,>=1.4 in /usr/local/lib/python3.7/dist-packages (from qiskit-aqua==0.9.1->qiskit) (1.4.1)\n",
            "Requirement already satisfied: quandl<=3.6.0 in /usr/local/lib/python3.7/dist-packages (from qiskit-aqua==0.9.1->qiskit) (3.6.0)\n",
            "Requirement already satisfied: pybind11>=2.6 in /usr/local/lib/python3.7/dist-packages (from qiskit-aer==0.8.1->qiskit) (2.6.2)\n",
            "Requirement already satisfied: websockets>=8 in /usr/local/lib/python3.7/dist-packages (from qiskit-ibmq-provider==0.12.2->qiskit) (8.1)\n",
            "Requirement already satisfied: urllib3>=1.21.1 in /usr/local/lib/python3.7/dist-packages (from qiskit-ibmq-provider==0.12.2->qiskit) (1.24.3)\n",
            "Requirement already satisfied: requests>=2.19 in /usr/local/lib/python3.7/dist-packages (from qiskit-ibmq-provider==0.12.2->qiskit) (2.23.0)\n",
            "Requirement already satisfied: nest-asyncio!=1.1.0,>=1.0.0 in /usr/local/lib/python3.7/dist-packages (from qiskit-ibmq-provider==0.12.2->qiskit) (1.5.1)\n",
            "Requirement already satisfied: requests-ntlm>=1.1.0 in /usr/local/lib/python3.7/dist-packages (from qiskit-ibmq-provider==0.12.2->qiskit) (1.1.0)\n",
            "Requirement already satisfied: python-dateutil>=2.8.0 in /usr/local/lib/python3.7/dist-packages (from qiskit-ibmq-provider==0.12.2->qiskit) (2.8.1)\n",
            "Requirement already satisfied: fastjsonschema>=2.10 in /usr/local/lib/python3.7/dist-packages (from qiskit-terra==0.17.1->qiskit) (2.15.0)\n",
            "Requirement already satisfied: python-constraint>=1.4 in /usr/local/lib/python3.7/dist-packages (from qiskit-terra==0.17.1->qiskit) (1.4.0)\n",
            "Requirement already satisfied: jsonschema>=2.6 in /usr/local/lib/python3.7/dist-packages (from qiskit-terra==0.17.1->qiskit) (2.6.0)\n",
            "Requirement already satisfied: dill>=0.3 in /usr/local/lib/python3.7/dist-packages (from qiskit-terra==0.17.1->qiskit) (0.3.3)\n",
            "Requirement already satisfied: ply>=3.10 in /usr/local/lib/python3.7/dist-packages (from qiskit-terra==0.17.1->qiskit) (3.11)\n",
            "Requirement already satisfied: six in /usr/local/lib/python3.7/dist-packages (from h5py<=3.1.0->qiskit-aqua==0.9.1->qiskit) (1.15.0)\n",
            "Requirement already satisfied: pytz>=2017.2 in /usr/local/lib/python3.7/dist-packages (from pandas<=1.2.3->qiskit-aqua==0.9.1->qiskit) (2018.9)\n",
            "Requirement already satisfied: mpmath>=0.19 in /usr/local/lib/python3.7/dist-packages (from sympy<=1.7.1,>=1.3->qiskit-aqua==0.9.1->qiskit) (1.2.1)\n",
            "Requirement already satisfied: multitasking>=0.0.7 in /usr/local/lib/python3.7/dist-packages (from yfinance<=0.1.55->qiskit-aqua==0.9.1->qiskit) (0.0.9)\n",
            "Requirement already satisfied: lxml>=4.5.1 in /usr/local/lib/python3.7/dist-packages (from yfinance<=0.1.55->qiskit-aqua==0.9.1->qiskit) (4.6.3)\n",
            "Requirement already satisfied: joblib>=0.11 in /usr/local/lib/python3.7/dist-packages (from scikit-learn<=0.24.1,>=0.20.0->qiskit-aqua==0.9.1->qiskit) (1.0.1)\n",
            "Requirement already satisfied: more-itertools in /usr/local/lib/python3.7/dist-packages (from quandl<=3.6.0->qiskit-aqua==0.9.1->qiskit) (8.7.0)\n",
            "Requirement already satisfied: inflection>=0.3.1 in /usr/local/lib/python3.7/dist-packages (from quandl<=3.6.0->qiskit-aqua==0.9.1->qiskit) (0.5.1)\n",
            "Requirement already satisfied: certifi>=2017.4.17 in /usr/local/lib/python3.7/dist-packages (from requests>=2.19->qiskit-ibmq-provider==0.12.2->qiskit) (2020.12.5)\n",
            "Requirement already satisfied: idna<3,>=2.5 in /usr/local/lib/python3.7/dist-packages (from requests>=2.19->qiskit-ibmq-provider==0.12.2->qiskit) (2.10)\n",
            "Requirement already satisfied: chardet<4,>=3.0.2 in /usr/local/lib/python3.7/dist-packages (from requests>=2.19->qiskit-ibmq-provider==0.12.2->qiskit) (3.0.4)\n",
            "Requirement already satisfied: cryptography>=1.3 in /usr/local/lib/python3.7/dist-packages (from requests-ntlm>=1.1.0->qiskit-ibmq-provider==0.12.2->qiskit) (3.4.7)\n",
            "Requirement already satisfied: ntlm-auth>=1.0.2 in /usr/local/lib/python3.7/dist-packages (from requests-ntlm>=1.1.0->qiskit-ibmq-provider==0.12.2->qiskit) (1.5.0)\n",
            "Requirement already satisfied: cffi>=1.12 in /usr/local/lib/python3.7/dist-packages (from cryptography>=1.3->requests-ntlm>=1.1.0->qiskit-ibmq-provider==0.12.2->qiskit) (1.14.5)\n",
            "Requirement already satisfied: pycparser in /usr/local/lib/python3.7/dist-packages (from cffi>=1.12->cryptography>=1.3->requests-ntlm>=1.1.0->qiskit-ibmq-provider==0.12.2->qiskit) (2.20)\n"
          ],
          "name": "stdout"
        }
      ]
    },
    {
      "cell_type": "code",
      "metadata": {
        "id": "Xv68KV85rmwh"
      },
      "source": [
        "n = 2\n",
        "grover_circuit = QuantumCircuit(n)"
      ],
      "execution_count": null,
      "outputs": []
    },
    {
      "cell_type": "code",
      "metadata": {
        "id": "vhHDHhGJsbXc"
      },
      "source": [
        "def initialize_s(qc, qubits):\n",
        "    \"\"\"Apply a H-gate to 'qubits' in qc\"\"\"\n",
        "    for q in qubits:\n",
        "        qc.h(q)\n",
        "    return qc"
      ],
      "execution_count": null,
      "outputs": []
    },
    {
      "cell_type": "code",
      "metadata": {
        "colab": {
          "base_uri": "https://localhost:8080/",
          "height": 90
        },
        "id": "Hs6kIaz-seL5",
        "outputId": "1bcd030d-5f92-4571-a53a-a871cc9ca136"
      },
      "source": [
        "grover_circuit = initialize_s(grover_circuit, [0,1])\n",
        "grover_circuit.draw()"
      ],
      "execution_count": null,
      "outputs": [
        {
          "output_type": "execute_result",
          "data": {
            "text/html": [
              "<pre style=\"word-wrap: normal;white-space: pre;background: #fff0;line-height: 1.1;font-family: &quot;Courier New&quot;,Courier,monospace\">     ┌───┐\n",
              "q_0: ┤ H ├\n",
              "     ├───┤\n",
              "q_1: ┤ H ├\n",
              "     └───┘</pre>"
            ],
            "text/plain": [
              "     ┌───┐\n",
              "q_0: ┤ H ├\n",
              "     ├───┤\n",
              "q_1: ┤ H ├\n",
              "     └───┘"
            ]
          },
          "metadata": {
            "tags": []
          },
          "execution_count": 9
        }
      ]
    },
    {
      "cell_type": "markdown",
      "metadata": {
        "id": "DWiYU8fhqjUY"
      },
      "source": [
        ""
      ]
    },
    {
      "cell_type": "code",
      "metadata": {
        "colab": {
          "base_uri": "https://localhost:8080/",
          "height": 90
        },
        "id": "ZI7aC2eUsnKr",
        "outputId": "072a7cd4-311a-4bd9-b52c-a6a25e3aa8eb"
      },
      "source": [
        "grover_circuit.cz(0,1) # Oracle\n",
        "grover_circuit.draw()"
      ],
      "execution_count": null,
      "outputs": [
        {
          "output_type": "execute_result",
          "data": {
            "text/html": [
              "<pre style=\"word-wrap: normal;white-space: pre;background: #fff0;line-height: 1.1;font-family: &quot;Courier New&quot;,Courier,monospace\">     ┌───┐   \n",
              "q_0: ┤ H ├─■─\n",
              "     ├───┤ │ \n",
              "q_1: ┤ H ├─■─\n",
              "     └───┘   </pre>"
            ],
            "text/plain": [
              "     ┌───┐   \n",
              "q_0: ┤ H ├─■─\n",
              "     ├───┤ │ \n",
              "q_1: ┤ H ├─■─\n",
              "     └───┘   "
            ]
          },
          "metadata": {
            "tags": []
          },
          "execution_count": 10
        }
      ]
    },
    {
      "cell_type": "code",
      "metadata": {
        "colab": {
          "base_uri": "https://localhost:8080/",
          "height": 90
        },
        "id": "gKIkQtqEssVC",
        "outputId": "1385ced4-3c97-44c0-c893-b5c5e615e117"
      },
      "source": [
        "# Diffusion operator (U_s)\n",
        "grover_circuit.h([0,1])\n",
        "grover_circuit.z([0,1])\n",
        "grover_circuit.cz(0,1)\n",
        "grover_circuit.h([0,1])\n",
        "grover_circuit.draw()"
      ],
      "execution_count": null,
      "outputs": [
        {
          "output_type": "execute_result",
          "data": {
            "text/html": [
              "<pre style=\"word-wrap: normal;white-space: pre;background: #fff0;line-height: 1.1;font-family: &quot;Courier New&quot;,Courier,monospace\">     ┌───┐   ┌───┐┌───┐   ┌───┐\n",
              "q_0: ┤ H ├─■─┤ H ├┤ Z ├─■─┤ H ├\n",
              "     ├───┤ │ ├───┤├───┤ │ ├───┤\n",
              "q_1: ┤ H ├─■─┤ H ├┤ Z ├─■─┤ H ├\n",
              "     └───┘   └───┘└───┘   └───┘</pre>"
            ],
            "text/plain": [
              "     ┌───┐   ┌───┐┌───┐   ┌───┐\n",
              "q_0: ┤ H ├─■─┤ H ├┤ Z ├─■─┤ H ├\n",
              "     ├───┤ │ ├───┤├───┤ │ ├───┤\n",
              "q_1: ┤ H ├─■─┤ H ├┤ Z ├─■─┤ H ├\n",
              "     └───┘   └───┘└───┘   └───┘"
            ]
          },
          "metadata": {
            "tags": []
          },
          "execution_count": 11
        }
      ]
    },
    {
      "cell_type": "code",
      "metadata": {
        "colab": {
          "base_uri": "https://localhost:8080/",
          "height": 394
        },
        "id": "vGD0p_TDs1b_",
        "outputId": "e1e0ff89-6893-499e-e3a1-50de210a08af"
      },
      "source": [
        "grover_circuit.measure_all()\n",
        "\n",
        "qasm_sim = Aer.get_backend('qasm_simulator')\n",
        "qobj = assemble(grover_circuit)\n",
        "result = qasm_sim.run(qobj).result()\n",
        "counts = result.get_counts()\n",
        "plot_histogram(counts)"
      ],
      "execution_count": null,
      "outputs": [
        {
          "output_type": "execute_result",
          "data": {
            "image/png": "[encoded data removed]",
            "text/plain": [
              "<Figure size 504x360 with 1 Axes>"
            ]
          },
          "metadata": {
            "tags": []
          },
          "execution_count": 17
        }
      ]
    }
  ]
}